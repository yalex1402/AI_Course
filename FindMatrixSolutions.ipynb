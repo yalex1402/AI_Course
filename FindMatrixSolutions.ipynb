{
  "nbformat": 4,
  "nbformat_minor": 0,
  "metadata": {
    "colab": {
      "name": "FindMatrixSolutions.ipynb",
      "provenance": [],
      "authorship_tag": "ABX9TyMM/Tx2Srf4lecxruCFWBXp",
      "include_colab_link": true
    },
    "kernelspec": {
      "name": "python3",
      "display_name": "Python 3"
    }
  },
  "cells": [
    {
      "cell_type": "markdown",
      "metadata": {
        "id": "view-in-github",
        "colab_type": "text"
      },
      "source": [
        "<a href=\"https://colab.research.google.com/github/yalex1402/AI_Course/blob/master/FindMatrixSolutions.ipynb\" target=\"_parent\"><img src=\"https://colab.research.google.com/assets/colab-badge.svg\" alt=\"Open In Colab\"/></a>"
      ]
    },
    {
      "cell_type": "markdown",
      "metadata": {
        "id": "q8kBIjZbX1AW",
        "colab_type": "text"
      },
      "source": [
        "# **Find how many solutions do a linear system have?**\n",
        "\n",
        "**By: Y. Alexander Garcia**\n",
        "\n",
        "To find the number of solutions a linear system has is important to ***transform the matrix into a reduced echelon matrix.*** Once this is done, it’s necessary to validate if the new matrix has a ***contradiction or a [free variable](https://math.stackexchange.com/questions/720971/what-do-free-variable-and-leading-variables-mean)***.\n",
        "\n",
        "First, the array size must be set (*remember that the matrix is A|B where A has a $m*n$ size*)\n"
      ]
    },
    {
      "cell_type": "code",
      "metadata": {
        "id": "jnomHDGAv5ls",
        "colab_type": "code",
        "colab": {}
      },
      "source": [
        "from sympy import Matrix\n",
        "\n",
        "def check_isnumber(text):\n",
        "  if text.isnumeric():\n",
        "    return True\n",
        "  return False\n",
        "\n",
        "# Matrix Size\n",
        "print(\"Enter values to create a new matrix (A|B) where A has an m*n size. \\n\")\n",
        "quantity_rows = input(\"Enter the number of rows: \\n\")\n",
        "quantity_columns = input(\"Enter the number of columns: \\n\") #Include augmented matrix\n",
        "\n",
        "# Validating the input written by users\n",
        "while not(check_isnumber(quantity_rows)) or not(check_isnumber(quantity_columns)):\n",
        "  print(\"You must write only numbers.\\n\")\n",
        "  quantity_rows = input(\"Enter the number of rows:\")\n",
        "  quantity_columns = input(\"Enter the number of columns:\")\n"
      ],
      "execution_count": null,
      "outputs": []
    },
    {
      "cell_type": "markdown",
      "metadata": {
        "id": "8je0zNyFjnN8",
        "colab_type": "text"
      },
      "source": [
        "Then, the array is filled row by row and after that, it's reduced through rref() function."
      ]
    },
    {
      "cell_type": "code",
      "metadata": {
        "id": "1cqiAS4tjnwv",
        "colab_type": "code",
        "colab": {}
      },
      "source": [
        "matrix = []\n",
        "row=[]\n",
        "i = 0\n",
        "\n",
        "#Generate matrix m*n\n",
        "while i < int(quantity_rows):\n",
        "  j=0\n",
        "  row=[]\n",
        "  while j < int(quantity_columns):\n",
        "    row.append(float(input(\"Enter the number in position X\" + str(i) + \",\" + str(j) + \": \")))\n",
        "    j+=1\n",
        "  matrix.append(row)\n",
        "  i+=1\n",
        "\n",
        "reduced_echelon_matrix = Matrix(matrix).rref()\n",
        "#print(\"original matrix: \\n\" + str(matrix) +\"\\n\")\n",
        "#print(\"rref matrix: \\n\" + str(reduced_echelon_matrix) +\"\\n\")\n"
      ],
      "execution_count": null,
      "outputs": []
    }
  ]
}