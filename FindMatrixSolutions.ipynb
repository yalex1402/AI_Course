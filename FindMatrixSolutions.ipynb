{
  "nbformat": 4,
  "nbformat_minor": 0,
  "metadata": {
    "colab": {
      "name": "FindMatrixSolutions.ipynb",
      "provenance": [],
      "authorship_tag": "ABX9TyPW6BdwmFKho4GF4jzioD6M",
      "include_colab_link": true
    },
    "kernelspec": {
      "name": "python3",
      "display_name": "Python 3"
    }
  },
  "cells": [
    {
      "cell_type": "markdown",
      "metadata": {
        "id": "view-in-github",
        "colab_type": "text"
      },
      "source": [
        "<a href=\"https://colab.research.google.com/github/yalex1402/AI_Course/blob/master/FindMatrixSolutions.ipynb\" target=\"_parent\"><img src=\"https://colab.research.google.com/assets/colab-badge.svg\" alt=\"Open In Colab\"/></a>"
      ]
    },
    {
      "cell_type": "markdown",
      "metadata": {
        "id": "q8kBIjZbX1AW",
        "colab_type": "text"
      },
      "source": [
        "# **Find how many solutions do a linear system have?**\n",
        "\n",
        "**By: Y. Alexander Garcia**\n",
        "\n",
        "To find the number of solutions a linear system has is important to ***transform the matrix into a reduced echelon matrix.*** Once this is done, it’s necessary to validate if the new matrix has a ***contradiction or a [free variable](https://math.stackexchange.com/questions/720971/what-do-free-variable-and-leading-variables-mean)***.\n",
        "\n",
        "First, the array size must be set (*remember that the matrix is A|B where A has a $m*n$ size*)\n"
      ]
    },
    {
      "cell_type": "code",
      "metadata": {
        "id": "jnomHDGAv5ls",
        "colab_type": "code",
        "colab": {
          "base_uri": "https://localhost:8080/",
          "height": 119
        },
        "outputId": "e17f330b-ab5f-4d4c-d6d5-62b372110359"
      },
      "source": [
        "from sympy import Matrix\n",
        "import numpy as np\n",
        "\n",
        "def check_isnumber(text):\n",
        "  if text.isnumeric():\n",
        "    return True\n",
        "  return False\n",
        "\n",
        "def check_unique_solution():\n",
        "    # Validate if the quantity of variables are grater than equations\n",
        "    if int(quantity_columns)-1 > int(quantity_rows):\n",
        "        return False\n",
        "    # Validate if each variable has a pivot (1)\n",
        "    i = 0\n",
        "    leader_var_position = 0\n",
        "    quantity_leading_var = 0\n",
        "    m = reduced_echelon_matrix[0]\n",
        "    while i < int(quantity_rows):        \n",
        "        leader_var_position = ((int(quantity_columns)+1)*i)\n",
        "        if leader_var_position > (int(quantity_rows)*int(quantity_columns)-2):\n",
        "            break\n",
        "        if m[leader_var_position] == 1 :\n",
        "            quantity_leading_var += 1\n",
        "        if quantity_leading_var == int(quantity_rows):\n",
        "            return True\n",
        "        i += 1\n",
        "    # In other case\n",
        "    return False\n",
        "\n",
        "def check_no_solutions():\n",
        "    position=0\n",
        "    actual_row = 0\n",
        "    actual_column = 0\n",
        "    ban = False #Show if any row has all elements of A in (A|B) like 0\n",
        "    m = reduced_echelon_matrix[0]\n",
        "    while position < (int(quantity_rows)*int(quantity_columns)):\n",
        "        #Check every position except the vector B \n",
        "        if position != (actual_row * int(quantity_columns))+(int(quantity_columns)-1):\n",
        "            #validate if the elements in row are 0\n",
        "            if m[position] == 0:\n",
        "                ban = True\n",
        "                actual_column += 1\n",
        "            else:\n",
        "                #if exits a number different to 0 jump to other row\n",
        "                ban = False\n",
        "                actual_row += 1\n",
        "                position = int(quantity_rows)* actual_row\n",
        "                actual_column = 0\n",
        "                continue\n",
        "        else:\n",
        "            actual_row += 1\n",
        "            actual_column = 0\n",
        "        position += 1\n",
        "    #Check if in the same row has a contradiction A = 0 but B != 0 in (A|B)\n",
        "    if ban and (m[(int(quantity_columns)-1)+(int(quantity_columns) * (actual_row-1))]==0):\n",
        "        ban = False\n",
        "    return ban\n",
        "\n",
        "# Matrix Size\n",
        "print(\"Enter values to create a new matrix (A|B) where A has an m*n size. \\n\")\n",
        "quantity_rows = input(\"Enter the number of rows: \\n\")\n",
        "quantity_columns = input(\"Enter the number of columns: \\n\") #Include augmented matrix\n",
        "\n",
        "# Validating the input written by users\n",
        "while not(check_isnumber(quantity_rows)) or not(check_isnumber(quantity_columns)):\n",
        "  print(\"You must write only numbers.\\n\")\n",
        "  quantity_rows = input(\"Enter the number of rows:\")\n",
        "  quantity_columns = input(\"Enter the number of columns:\")"
      ],
      "execution_count": 45,
      "outputs": [
        {
          "output_type": "stream",
          "text": [
            "Enter values to create a new matrix (A|B) where A has an m*n size. \n",
            "\n",
            "Enter the number of rows: \n",
            "3\n",
            "Enter the number of columns: \n",
            "4\n"
          ],
          "name": "stdout"
        }
      ]
    },
    {
      "cell_type": "markdown",
      "metadata": {
        "id": "8je0zNyFjnN8",
        "colab_type": "text"
      },
      "source": [
        "Then, the array is filled row by row and after that, it's reduced through rref() function."
      ]
    },
    {
      "cell_type": "code",
      "metadata": {
        "id": "1cqiAS4tjnwv",
        "colab_type": "code",
        "colab": {
          "base_uri": "https://localhost:8080/",
          "height": 391
        },
        "outputId": "20ceee69-6f44-4e1c-a20f-431007be98f8"
      },
      "source": [
        "matrix = []\n",
        "row=[]\n",
        "i = 0\n",
        "\n",
        "#Generate matrix m*n\n",
        "while i < int(quantity_rows):\n",
        "  j=0\n",
        "  row=[]\n",
        "  while j < int(quantity_columns):\n",
        "    row.append(float(input(\"Enter the number in position X\" + str(i) + \",\" + str(j) + \": \")))\n",
        "    j+=1\n",
        "  matrix.append(row)\n",
        "  i+=1\n",
        "\n",
        "reduced_echelon_matrix = Matrix(matrix).rref()\n",
        "print(\"original matrix: \\n\" ,np.matrix(matrix) ,\"\\n\")\n",
        "print(\"rref matrix: \\n\" , np.matrix(reduced_echelon_matrix[0]) ,\"\\n\")"
      ],
      "execution_count": 46,
      "outputs": [
        {
          "output_type": "stream",
          "text": [
            "Enter the number in position X0,0: 20\n",
            "Enter the number in position X0,1: 30\n",
            "Enter the number in position X0,2: 20\n",
            "Enter the number in position X0,3: 250\n",
            "Enter the number in position X1,0: 20\n",
            "Enter the number in position X1,1: 40\n",
            "Enter the number in position X1,2: 10\n",
            "Enter the number in position X1,3: 200\n",
            "Enter the number in position X2,0: 40\n",
            "Enter the number in position X2,1: 50\n",
            "Enter the number in position X2,2: 50\n",
            "Enter the number in position X2,3: 550\n",
            "original matrix: \n",
            " [[ 20.  30.  20. 250.]\n",
            " [ 20.  40.  10. 200.]\n",
            " [ 40.  50.  50. 550.]] \n",
            "\n",
            "rref matrix: \n",
            " [[1 0 2.50000000000000 20.0000000000000]\n",
            " [0 1 -1.00000000000000 -5.00000000000000]\n",
            " [0 0 0 0]] \n",
            "\n"
          ],
          "name": "stdout"
        }
      ]
    },
    {
      "cell_type": "markdown",
      "metadata": {
        "id": "Zg5tzkkrbVxQ",
        "colab_type": "text"
      },
      "source": [
        "Finally, the matrix should be analyzed to determine if it has one, many, or no solutions.\n",
        "\n",
        "We know this:\n",
        "\n",
        "\n",
        "1.   If there are more variables than equations, the linear system couldn't have a unique solution.\n",
        "2.   If the system has a free variable and it doesn't have contradictions, it has infinite solutions.\n",
        "3.   If exits one contradiction at least, the system doesn't have a solution.\n",
        "\n"
      ]
    },
    {
      "cell_type": "code",
      "metadata": {
        "id": "180E-38khOo-",
        "colab_type": "code",
        "colab": {
          "base_uri": "https://localhost:8080/",
          "height": 34
        },
        "outputId": "b9bd15ca-c3b7-4ad2-ab29-1f768d671783"
      },
      "source": [
        "if check_unique_solution():\n",
        "    print(\"The system has unique solution\")\n",
        "elif check_no_solutions():\n",
        "    print(\"The system doesn't have solution\")\n",
        "else:\n",
        "    print(\"The system has multiple solutions\")\n"
      ],
      "execution_count": 47,
      "outputs": [
        {
          "output_type": "stream",
          "text": [
            "The system has multiple solutions\n"
          ],
          "name": "stdout"
        }
      ]
    },
    {
      "cell_type": "markdown",
      "metadata": {
        "id": "5hGOaoqq0m61",
        "colab_type": "text"
      },
      "source": [
        "# **Bibliography**\n",
        "\n",
        "[Sympy Documentation](https://docs.sympy.org/latest/tutorial/matrices.html#rref) \n",
        "\n",
        "[Leading Variables and Free Variables](https://math.stackexchange.com/questions/720971/what-do-free-variable-and-leading-variables-mean)"
      ]
    }
  ]
}