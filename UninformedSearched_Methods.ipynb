{
  "nbformat": 4,
  "nbformat_minor": 0,
  "metadata": {
    "colab": {
      "name": "UninformedSearched_Methods.ipynb",
      "provenance": [],
      "authorship_tag": "ABX9TyPo/o3zbzV2k3IQ3y/Hwdi0",
      "include_colab_link": true
    },
    "kernelspec": {
      "name": "python3",
      "display_name": "Python 3"
    }
  },
  "cells": [
    {
      "cell_type": "markdown",
      "metadata": {
        "id": "view-in-github",
        "colab_type": "text"
      },
      "source": [
        "<a href=\"https://colab.research.google.com/github/yalex1402/AI_Course/blob/master/UninformedSearched_Methods.ipynb\" target=\"_parent\"><img src=\"https://colab.research.google.com/assets/colab-badge.svg\" alt=\"Open In Colab\"/></a>"
      ]
    },
    {
      "cell_type": "markdown",
      "metadata": {
        "id": "C2lTCxJjTzPA",
        "colab_type": "text"
      },
      "source": [
        "# **Métodos de busqueda no-informada**\n",
        "\n",
        "Exiten varios métodos de búsqueda no-informada, por ejemplo:\n",
        "* Breadth-first search \n",
        "* Uniform-cost search\n",
        "* Depth-first search\n",
        "* Depth-limited search\n",
        "* Iterative deepening search\n",
        "\n",
        "En este ejemplo se realizarán las clases y métodos necesarios para ejecutar este tipo de busqueda en cualquier ejercicio."
      ]
    },
    {
      "cell_type": "code",
      "metadata": {
        "id": "LBZg_FHNTqUE",
        "colab_type": "code",
        "colab": {
          "base_uri": "https://localhost:8080/",
          "height": 85
        },
        "outputId": "d817234d-ccff-47d1-c1fc-41eee7281000"
      },
      "source": [
        "class Tree():\n",
        "\n",
        "    def __init__(self,node_description):\n",
        "        self.value = node_description\n",
        "        self.parent = None\n",
        "        self.cost = 0\n",
        "        self.childs = []\n",
        "    \n",
        "    def addEdge(self, node_description):\n",
        "        edge = Tree(node_description)\n",
        "        edge.parent = self\n",
        "        edge.cost = edge.cost + self.cost\n",
        "        self.childs.append(edge)\n",
        "\n",
        "    def getEdge(self, child_index):\n",
        "        return self.childs[child_index]\n",
        "\n",
        "    def BFS(self, goal):\n",
        "        queue=[]\n",
        "        queue.append(self)\n",
        "        while(len(queue) != 0):\n",
        "            node = queue.pop(0)\n",
        "            if(node.value == goal):\n",
        "                self.get_solution(node)\n",
        "                break\n",
        "            number_childs = len(node.childs)\n",
        "            #Se debe llamar la Función Sucesión \n",
        "            for i in range(number_childs):\n",
        "                queue.append(node.getEdge(i))\n",
        "    \n",
        "    def UCS(self, goal):\n",
        "        \n",
        "    \n",
        "    def get_solution(self, node):\n",
        "        if(node == None):\n",
        "            return\n",
        "        else:\n",
        "            print(node.value)\n",
        "            self.get_solution(node.parent)\n",
        "\n",
        "\n",
        "tree = Tree('A')\n",
        "tree.addEdge('B')\n",
        "tree.addEdge('C')\n",
        "\n",
        "first_edge = tree.getEdge(0)\n",
        "first_edge.addEdge('B1')\n",
        "first_edge.addEdge('B2')\n",
        "\n",
        "second_edge = first_edge.getEdge(0)\n",
        "second_edge.addEdge('B11')\n",
        "second_edge.addEdge('B12')\n",
        "\n",
        "tree.BFS('B12')\n"
      ],
      "execution_count": null,
      "outputs": [
        {
          "output_type": "stream",
          "text": [
            "B12\n",
            "B1\n",
            "B\n",
            "A\n"
          ],
          "name": "stdout"
        }
      ]
    }
  ]
}