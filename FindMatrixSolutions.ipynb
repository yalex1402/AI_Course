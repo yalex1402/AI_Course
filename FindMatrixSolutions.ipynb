{
  "nbformat": 4,
  "nbformat_minor": 0,
  "metadata": {
    "colab": {
      "name": "FindMatrixSolutions.ipynb",
      "provenance": [],
      "authorship_tag": "ABX9TyNRbL04EJiUfWtbwhKG3kMp",
      "include_colab_link": true
    },
    "kernelspec": {
      "name": "python3",
      "display_name": "Python 3"
    }
  },
  "cells": [
    {
      "cell_type": "markdown",
      "metadata": {
        "id": "view-in-github",
        "colab_type": "text"
      },
      "source": [
        "<a href=\"https://colab.research.google.com/github/yalex1402/AI_Course/blob/master/FindMatrixSolutions.ipynb\" target=\"_parent\"><img src=\"https://colab.research.google.com/assets/colab-badge.svg\" alt=\"Open In Colab\"/></a>"
      ]
    },
    {
      "cell_type": "code",
      "metadata": {
        "id": "jnomHDGAv5ls",
        "colab_type": "code",
        "colab": {
          "base_uri": "https://localhost:8080/",
          "height": 238
        },
        "outputId": "0298d802-747c-4a7b-a85b-f05c389e1383"
      },
      "source": [
        "from sympy import Matrix\n",
        "\n",
        "def check_isnumber(text):\n",
        "  if text.isnumeric():\n",
        "    return True\n",
        "  return False\n",
        "\n",
        "# Matrix Size\n",
        "quantity_rows = input(\"Enter the number of rows: \\n\")\n",
        "quantity_columns = input(\"Enter the number of columns: \\n\") #Include augmented matrix\n",
        "\n",
        "# Validating the input written by users\n",
        "while not(check_isnumber(quantity_rows)) or not(check_isnumber(quantity_columns)):\n",
        "  print(\"You must write only numbers.\\n\")\n",
        "  quantity_rows = input(\"Enter the number of rows:\")\n",
        "  quantity_columns = input(\"Enter the number of columns:\")\n",
        "\n",
        "matrix = []\n",
        "row=[]\n",
        "i = 0\n",
        "\n",
        "#Generate matrix m*n\n",
        "while i < int(quantity_rows):\n",
        "  j=0\n",
        "  row=[]\n",
        "  while j < int(quantity_columns):\n",
        "    row.append(int(input(\"Enter the number in position X\" + str(i) + \",\" + str(j) + \": \")))\n",
        "    j+=1\n",
        "  matrix.append(row)\n",
        "  i+=1\n",
        "\n",
        "reduced_echelon_matrix = Matrix(matrix).rref()\n",
        "print(reduced_echelon_matrix)\n"
      ],
      "execution_count": 22,
      "outputs": [
        {
          "output_type": "stream",
          "text": [
            "Enter the number of rows: \n",
            "2\n",
            "Enter the number of columns: \n",
            "3\n",
            "Enter the number in position X0,0: 1\n",
            "Enter the number in position X0,1: 3\n",
            "Enter the number in position X0,2: -1\n",
            "Enter the number in position X1,0: 4\n",
            "Enter the number in position X1,1: 2\n",
            "Enter the number in position X1,2: 8\n",
            "(Matrix([\n",
            "[1, 0, 13/5],\n",
            "[0, 1, -6/5]]), (0, 1))\n"
          ],
          "name": "stdout"
        }
      ]
    }
  ]
}