{
  "nbformat": 4,
  "nbformat_minor": 0,
  "metadata": {
    "colab": {
      "name": "FindMatrixSolutions.ipynb",
      "provenance": [],
      "authorship_tag": "ABX9TyMl+Nu2vqSpbl1UpLD0IsdY",
      "include_colab_link": true
    },
    "kernelspec": {
      "name": "python3",
      "display_name": "Python 3"
    }
  },
  "cells": [
    {
      "cell_type": "markdown",
      "metadata": {
        "id": "view-in-github",
        "colab_type": "text"
      },
      "source": [
        "<a href=\"https://colab.research.google.com/github/yalex1402/AI_Course/blob/master/FindMatrixSolutions.ipynb\" target=\"_parent\"><img src=\"https://colab.research.google.com/assets/colab-badge.svg\" alt=\"Open In Colab\"/></a>"
      ]
    },
    {
      "cell_type": "markdown",
      "metadata": {
        "id": "q8kBIjZbX1AW",
        "colab_type": "text"
      },
      "source": [
        "# **Find how many solutions do a linear system have?**\n",
        "\n",
        "**By: Y. Alexander Garcia**\n",
        "\n",
        "To find the number of solutions a linear system has is important to ***transform the matrix into a reduced echelon matrix.*** Once this is done, it’s necessary to validate if the new matrix has a ***contradiction or a [free variable](https://math.stackexchange.com/questions/720971/what-do-free-variable-and-leading-variables-mean)***.\n",
        "\n",
        "First, the array size must be set (*remember that the matrix is A|B where A has a $m*n$ size*)\n"
      ]
    },
    {
      "cell_type": "code",
      "metadata": {
        "id": "jnomHDGAv5ls",
        "colab_type": "code",
        "colab": {
          "base_uri": "https://localhost:8080/",
          "height": 119
        },
        "outputId": "95e43f8b-8f78-4dd0-cb2e-00494adeb680"
      },
      "source": [
        "from sympy import Matrix\n",
        "\n",
        "def check_isnumber(text):\n",
        "  if text.isnumeric():\n",
        "    return True\n",
        "  return False\n",
        "\n",
        "def check_unique_solution():\n",
        "    # Validate if the quantity of variables are grater than equations\n",
        "    if int(quantity_columns)-1 > int(quantity_rows):\n",
        "        return False\n",
        "    # Validate if each variable has a pivot (1)\n",
        "    i = 0\n",
        "    leader_var_position = 0\n",
        "    quantity_leading_var = 0\n",
        "    m = reduced_echelon_matrix[0]\n",
        "    while i < int(quantity_rows):        \n",
        "        leader_var_position = ((int(quantity_columns)+1)*i)\n",
        "        if leader_var_position > (int(quantity_rows)*int(quantity_columns)-2):\n",
        "            break\n",
        "        if quantity_leading_var == int(quantity_columns)-1:\n",
        "            return True\n",
        "        if m[leader_var_position] == 1 :\n",
        "            quantity_leading_var += 1\n",
        "        i += 1\n",
        "    # In other case\n",
        "    return False\n",
        "\n",
        "def check_no_solutions():\n",
        "    position=0\n",
        "    actual_row = 0\n",
        "    actual_column = 0\n",
        "    ban = False #Show if any row has all elements of A in (A|B) like 0\n",
        "    m = reduced_echelon_matrix[0]\n",
        "    while position < (int(quantity_rows)*int(quantity_columns)):\n",
        "        if (position + 1) % 3 != 0:\n",
        "            if m[position] == 0:\n",
        "                ban = True\n",
        "                actual_column += 1\n",
        "            else:\n",
        "                ban = False\n",
        "                actual_row += 1\n",
        "                position = int(quantity_rows)* actual_row\n",
        "                actual_column = 0\n",
        "                continue\n",
        "        else:\n",
        "            actual_row += 1\n",
        "            actual_column = 0\n",
        "        position += 1\n",
        "    #Check if in the same row has a contradiction A = 0 but B != 0 in (A|B)\n",
        "    if ban and (m[(int(quantity_columns)-1)+(int(quantity_columns) * (actual_row-1))]==0):\n",
        "        ban = False\n",
        "    return ban\n",
        "\n",
        "# Matrix Size\n",
        "print(\"Enter values to create a new matrix (A|B) where A has an m*n size. \\n\")\n",
        "quantity_rows = input(\"Enter the number of rows: \\n\")\n",
        "quantity_columns = input(\"Enter the number of columns: \\n\") #Include augmented matrix\n",
        "\n",
        "# Validating the input written by users\n",
        "while not(check_isnumber(quantity_rows)) or not(check_isnumber(quantity_columns)):\n",
        "  print(\"You must write only numbers.\\n\")\n",
        "  quantity_rows = input(\"Enter the number of rows:\")\n",
        "  quantity_columns = input(\"Enter the number of columns:\")"
      ],
      "execution_count": 100,
      "outputs": [
        {
          "output_type": "stream",
          "text": [
            "Enter values to create a new matrix (A|B) where A has an m*n size. \n",
            "\n",
            "Enter the number of rows: \n",
            "3\n",
            "Enter the number of columns: \n",
            "4\n"
          ],
          "name": "stdout"
        }
      ]
    },
    {
      "cell_type": "markdown",
      "metadata": {
        "id": "8je0zNyFjnN8",
        "colab_type": "text"
      },
      "source": [
        "Then, the array is filled row by row and after that, it's reduced through rref() function."
      ]
    },
    {
      "cell_type": "code",
      "metadata": {
        "id": "1cqiAS4tjnwv",
        "colab_type": "code",
        "colab": {
          "base_uri": "https://localhost:8080/",
          "height": 374
        },
        "outputId": "ee647cba-1641-40fc-9587-1c41efc371e2"
      },
      "source": [
        "matrix = []\n",
        "row=[]\n",
        "i = 0\n",
        "\n",
        "#Generate matrix m*n\n",
        "while i < int(quantity_rows):\n",
        "  j=0\n",
        "  row=[]\n",
        "  while j < int(quantity_columns):\n",
        "    row.append(float(input(\"Enter the number in position X\" + str(i) + \",\" + str(j) + \": \")))\n",
        "    j+=1\n",
        "  matrix.append(row)\n",
        "  i+=1\n",
        "\n",
        "reduced_echelon_matrix = Matrix(matrix).rref()\n",
        "print(\"original matrix: \\n\" +str(matrix) +\"\\n\")\n",
        "print(\"rref matrix: \\n\" + str(reduced_echelon_matrix) +\"\\n\")"
      ],
      "execution_count": 101,
      "outputs": [
        {
          "output_type": "stream",
          "text": [
            "Enter the number in position X0,0: 1\n",
            "Enter the number in position X0,1: -3\n",
            "Enter the number in position X0,2: 5\n",
            "Enter the number in position X0,3: 1\n",
            "Enter the number in position X1,0: 2\n",
            "Enter the number in position X1,1: 1\n",
            "Enter the number in position X1,2: -7\n",
            "Enter the number in position X1,3: 4\n",
            "Enter the number in position X2,0: 4\n",
            "Enter the number in position X2,1: -5\n",
            "Enter the number in position X2,2: 3\n",
            "Enter the number in position X2,3: 6\n",
            "original matrix: \n",
            "[[1.0, -3.0, 5.0, 1.0], [2.0, 1.0, -7.0, 4.0], [4.0, -5.0, 3.0, 6.0]]\n",
            "\n",
            "rref matrix: \n",
            "(Matrix([\n",
            "[1, 0, -2.28571428571429,  1.85714285714286],\n",
            "[0, 1, -2.42857142857143, 0.285714285714286],\n",
            "[0, 0,                 0,                 0]]), (0, 1))\n",
            "\n"
          ],
          "name": "stdout"
        }
      ]
    },
    {
      "cell_type": "markdown",
      "metadata": {
        "id": "Zg5tzkkrbVxQ",
        "colab_type": "text"
      },
      "source": [
        "Finally, the matrix should be analyzed to determine if it has one, many, or no solutions.\n",
        "\n",
        "We know this:\n",
        "\n",
        "\n",
        "1.   If there are more variables than equations, the linear system couldn't have a unique solution.\n",
        "2.   If the system has a free variable and it doesn't have contradictions, it has infinite solutions.\n",
        "3.   If exits one contradiction at least, the system doesn't have a solution.\n",
        "\n"
      ]
    },
    {
      "cell_type": "code",
      "metadata": {
        "id": "180E-38khOo-",
        "colab_type": "code",
        "colab": {
          "base_uri": "https://localhost:8080/",
          "height": 374
        },
        "outputId": "6dc74d22-9026-4fe0-897f-b882c6f52bf9"
      },
      "source": [
        "if check_unique_solution():\n",
        "    print(\"The system has unique solution\")\n",
        "elif check_no_solutions():\n",
        "    print(\"The system doesn't have solution\")\n",
        "else:\n",
        "    print(\"The system has multiple solutions\")\n"
      ],
      "execution_count": 102,
      "outputs": [
        {
          "output_type": "error",
          "ename": "IndexError",
          "evalue": "ignored",
          "traceback": [
            "\u001b[0;31m---------------------------------------------------------------------------\u001b[0m",
            "\u001b[0;31mIndexError\u001b[0m                                Traceback (most recent call last)",
            "\u001b[0;32m<ipython-input-102-767d7a908df0>\u001b[0m in \u001b[0;36m<module>\u001b[0;34m()\u001b[0m\n\u001b[1;32m      1\u001b[0m \u001b[0;32mif\u001b[0m \u001b[0mcheck_unique_solution\u001b[0m\u001b[0;34m(\u001b[0m\u001b[0;34m)\u001b[0m\u001b[0;34m:\u001b[0m\u001b[0;34m\u001b[0m\u001b[0;34m\u001b[0m\u001b[0m\n\u001b[1;32m      2\u001b[0m     \u001b[0mprint\u001b[0m\u001b[0;34m(\u001b[0m\u001b[0;34m\"The system has unique solution\"\u001b[0m\u001b[0;34m)\u001b[0m\u001b[0;34m\u001b[0m\u001b[0;34m\u001b[0m\u001b[0m\n\u001b[0;32m----> 3\u001b[0;31m \u001b[0;32melif\u001b[0m \u001b[0mcheck_no_solutions\u001b[0m\u001b[0;34m(\u001b[0m\u001b[0;34m)\u001b[0m\u001b[0;34m:\u001b[0m\u001b[0;34m\u001b[0m\u001b[0;34m\u001b[0m\u001b[0m\n\u001b[0m\u001b[1;32m      4\u001b[0m     \u001b[0mprint\u001b[0m\u001b[0;34m(\u001b[0m\u001b[0;34m\"The system doesn't have solution\"\u001b[0m\u001b[0;34m)\u001b[0m\u001b[0;34m\u001b[0m\u001b[0;34m\u001b[0m\u001b[0m\n\u001b[1;32m      5\u001b[0m \u001b[0;32melse\u001b[0m\u001b[0;34m:\u001b[0m\u001b[0;34m\u001b[0m\u001b[0;34m\u001b[0m\u001b[0m\n",
            "\u001b[0;32m<ipython-input-100-29b83d9ca802>\u001b[0m in \u001b[0;36mcheck_no_solutions\u001b[0;34m()\u001b[0m\n\u001b[1;32m     49\u001b[0m         \u001b[0mposition\u001b[0m \u001b[0;34m+=\u001b[0m \u001b[0;36m1\u001b[0m\u001b[0;34m\u001b[0m\u001b[0;34m\u001b[0m\u001b[0m\n\u001b[1;32m     50\u001b[0m     \u001b[0;31m#Check if in the same row has a contradiction A = 0 but B != 0 in (A|B)\u001b[0m\u001b[0;34m\u001b[0m\u001b[0;34m\u001b[0m\u001b[0;34m\u001b[0m\u001b[0m\n\u001b[0;32m---> 51\u001b[0;31m     \u001b[0;32mif\u001b[0m \u001b[0mban\u001b[0m \u001b[0;32mand\u001b[0m \u001b[0;34m(\u001b[0m\u001b[0mm\u001b[0m\u001b[0;34m[\u001b[0m\u001b[0;34m(\u001b[0m\u001b[0mint\u001b[0m\u001b[0;34m(\u001b[0m\u001b[0mquantity_columns\u001b[0m\u001b[0;34m)\u001b[0m\u001b[0;34m-\u001b[0m\u001b[0;36m1\u001b[0m\u001b[0;34m)\u001b[0m\u001b[0;34m+\u001b[0m\u001b[0;34m(\u001b[0m\u001b[0mint\u001b[0m\u001b[0;34m(\u001b[0m\u001b[0mquantity_columns\u001b[0m\u001b[0;34m)\u001b[0m \u001b[0;34m*\u001b[0m \u001b[0;34m(\u001b[0m\u001b[0mactual_row\u001b[0m\u001b[0;34m-\u001b[0m\u001b[0;36m1\u001b[0m\u001b[0;34m)\u001b[0m\u001b[0;34m)\u001b[0m\u001b[0;34m]\u001b[0m\u001b[0;34m==\u001b[0m\u001b[0;36m0\u001b[0m\u001b[0;34m)\u001b[0m\u001b[0;34m:\u001b[0m\u001b[0;34m\u001b[0m\u001b[0;34m\u001b[0m\u001b[0m\n\u001b[0m\u001b[1;32m     52\u001b[0m         \u001b[0mban\u001b[0m \u001b[0;34m=\u001b[0m \u001b[0;32mFalse\u001b[0m\u001b[0;34m\u001b[0m\u001b[0;34m\u001b[0m\u001b[0m\n\u001b[1;32m     53\u001b[0m     \u001b[0;32mreturn\u001b[0m \u001b[0mban\u001b[0m\u001b[0;34m\u001b[0m\u001b[0;34m\u001b[0m\u001b[0m\n",
            "\u001b[0;32m/usr/local/lib/python3.6/dist-packages/sympy/matrices/dense.py\u001b[0m in \u001b[0;36m__getitem__\u001b[0;34m(self, key)\u001b[0m\n\u001b[1;32m    124\u001b[0m             \u001b[0;32mif\u001b[0m \u001b[0misinstance\u001b[0m\u001b[0;34m(\u001b[0m\u001b[0mkey\u001b[0m\u001b[0;34m,\u001b[0m \u001b[0mslice\u001b[0m\u001b[0;34m)\u001b[0m\u001b[0;34m:\u001b[0m\u001b[0;34m\u001b[0m\u001b[0;34m\u001b[0m\u001b[0m\n\u001b[1;32m    125\u001b[0m                 \u001b[0;32mreturn\u001b[0m \u001b[0mself\u001b[0m\u001b[0;34m.\u001b[0m\u001b[0m_mat\u001b[0m\u001b[0;34m[\u001b[0m\u001b[0mkey\u001b[0m\u001b[0;34m]\u001b[0m\u001b[0;34m\u001b[0m\u001b[0;34m\u001b[0m\u001b[0m\n\u001b[0;32m--> 126\u001b[0;31m             \u001b[0;32mreturn\u001b[0m \u001b[0mself\u001b[0m\u001b[0;34m.\u001b[0m\u001b[0m_mat\u001b[0m\u001b[0;34m[\u001b[0m\u001b[0ma2idx\u001b[0m\u001b[0;34m(\u001b[0m\u001b[0mkey\u001b[0m\u001b[0;34m)\u001b[0m\u001b[0;34m]\u001b[0m\u001b[0;34m\u001b[0m\u001b[0;34m\u001b[0m\u001b[0m\n\u001b[0m\u001b[1;32m    127\u001b[0m \u001b[0;34m\u001b[0m\u001b[0m\n\u001b[1;32m    128\u001b[0m     \u001b[0;32mdef\u001b[0m \u001b[0m__setitem__\u001b[0m\u001b[0;34m(\u001b[0m\u001b[0mself\u001b[0m\u001b[0;34m,\u001b[0m \u001b[0mkey\u001b[0m\u001b[0;34m,\u001b[0m \u001b[0mvalue\u001b[0m\u001b[0;34m)\u001b[0m\u001b[0;34m:\u001b[0m\u001b[0;34m\u001b[0m\u001b[0;34m\u001b[0m\u001b[0m\n",
            "\u001b[0;31mIndexError\u001b[0m: list index out of range"
          ]
        }
      ]
    },
    {
      "cell_type": "markdown",
      "metadata": {
        "id": "5hGOaoqq0m61",
        "colab_type": "text"
      },
      "source": [
        "# **Bibliography**\n",
        "\n",
        "[Sympy Documentation](https://docs.sympy.org/latest/tutorial/matrices.html#rref) \n",
        "\n",
        "[Leading Variables and Free Variables](https://math.stackexchange.com/questions/720971/what-do-free-variable-and-leading-variables-mean)"
      ]
    }
  ]
}