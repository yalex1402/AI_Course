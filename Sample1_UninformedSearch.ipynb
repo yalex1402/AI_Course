{
  "nbformat": 4,
  "nbformat_minor": 0,
  "metadata": {
    "colab": {
      "name": "Sample1_UninformedSearch.ipynb",
      "provenance": [],
      "authorship_tag": "ABX9TyNMfv1qJktUFy72+0pVvZb0",
      "include_colab_link": true
    },
    "kernelspec": {
      "name": "python3",
      "display_name": "Python 3"
    }
  },
  "cells": [
    {
      "cell_type": "markdown",
      "metadata": {
        "id": "view-in-github",
        "colab_type": "text"
      },
      "source": [
        "<a href=\"https://colab.research.google.com/github/yalex1402/AI_Course/blob/master/Sample1_UninformedSearch.ipynb\" target=\"_parent\"><img src=\"https://colab.research.google.com/assets/colab-badge.svg\" alt=\"Open In Colab\"/></a>"
      ]
    },
    {
      "cell_type": "code",
      "metadata": {
        "id": "S6fx7ON50rsI",
        "colab_type": "code",
        "colab": {}
      },
      "source": [
        "\n",
        "#Generate Matrix m*n\n",
        "def GenerateMatrix(nrows, ncolumns):\n",
        "    matrix = []\n",
        "    row=[]\n",
        "    i = 0\n",
        "    while i < nrows:\n",
        "        j=0\n",
        "        row=[]\n",
        "        while j < ncolumns:\n",
        "            row.append(int(input(\"Enter the number in position X\" + str(i) + \",\" + str(j) + \": \")))\n",
        "            j+=1\n",
        "        matrix.append(row)\n",
        "        i+=1\n",
        "    return matrix\n",
        "\n",
        "#Identify where is the value -1 (it's a representation of white space)\n",
        "def SearchWhiteSpace(matrix):\n",
        "    position = {\"i\" : 0 , \"j\" : 0}\n",
        "    for row in matrix:\n",
        "        position[\"j\"] = 0\n",
        "        for element in row:\n",
        "            if element == -1:\n",
        "                return position\n",
        "            position[\"j\"] += 1\n",
        "        position[\"i\"] += 1\n",
        "\n",
        "#Define if any position is into the valid positions of the matrix\n",
        "def IsValidPosition(position, nrows, ncolumns):\n",
        "    if (position[\"i\"] >= 0 and position[\"i\"] <= nrows) or (position[\"j\"] >= 0 and position[\"j\"] <= ncolumns):\n",
        "        return True\n",
        "    return False\n",
        "\n",
        "def MoveToRight (position):\n",
        "    position[\"j\"]+=1\n",
        "    return position\n",
        "\n",
        "def MoveToLeft (position):\n",
        "    position[\"j\"]-=1\n",
        "    return position\n",
        "\n",
        "def MoveToUp (position):\n",
        "    position[\"i\"]-=1\n",
        "    return position\n",
        "\n",
        "def MoveToDown (position):\n",
        "    position[\"i\"]+=1\n",
        "    return position"
      ],
      "execution_count": null,
      "outputs": []
    }
  ]
}