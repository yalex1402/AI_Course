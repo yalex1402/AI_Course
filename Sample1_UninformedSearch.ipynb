{
  "nbformat": 4,
  "nbformat_minor": 0,
  "metadata": {
    "colab": {
      "name": "Sample1_UninformedSearch.ipynb",
      "provenance": [],
      "include_colab_link": true
    },
    "kernelspec": {
      "name": "python3",
      "display_name": "Python 3"
    }
  },
  "cells": [
    {
      "cell_type": "markdown",
      "metadata": {
        "id": "view-in-github",
        "colab_type": "text"
      },
      "source": [
        "<a href=\"https://colab.research.google.com/github/yalex1402/AI_Course/blob/master/Sample1_UninformedSearch.ipynb\" target=\"_parent\"><img src=\"https://colab.research.google.com/assets/colab-badge.svg\" alt=\"Open In Colab\"/></a>"
      ]
    },
    {
      "cell_type": "code",
      "metadata": {
        "id": "S6fx7ON50rsI",
        "colab_type": "code",
        "colab": {
          "base_uri": "https://localhost:8080/",
          "height": 68
        },
        "outputId": "fa3d82de-f6f7-4430-b558-5781e160ed9e"
      },
      "source": [
        " \n",
        "#Generate Matrix m*n\n",
        "def GenerateMatrix(nrows, ncolumns):\n",
        "    matrix = []\n",
        "    row=[]\n",
        "    i = 0\n",
        "    while i < nrows:\n",
        "        j=0\n",
        "        row=[]\n",
        "        while j < ncolumns:\n",
        "            row.append(int(input(\"Enter the number in position X\" + str(i) + \",\" + str(j) + \": \")))\n",
        "            j+=1\n",
        "        matrix.append(row)\n",
        "        i+=1\n",
        "    return matrix\n",
        " \n",
        "#Identify where is the value -1 (it's a representation of white space)\n",
        "def SearchWhiteSpace(matrix):\n",
        "    position = {\"i\" : 0 , \"j\" : 0}\n",
        "    for row in matrix:\n",
        "        position[\"j\"] = 0\n",
        "        for element in row:\n",
        "            if element == -1:\n",
        "                return position\n",
        "            position[\"j\"] += 1\n",
        "        position[\"i\"] += 1\n",
        " \n",
        "#Define if any position is into the valid positions of the matrix\n",
        "def IsValidPosition(position, nrows, ncolumns):\n",
        "    if (position[\"i\"] >= 0 and position[\"i\"] < nrows) and (position[\"j\"] >= 0 and position[\"j\"] < ncolumns):\n",
        "        return True\n",
        "    return False\n",
        " \n",
        "def MoveToRight (column):\n",
        "    column += 1\n",
        "    return column\n",
        " \n",
        "def MoveToLeft (column):\n",
        "    column -= 1\n",
        "    return column\n",
        " \n",
        "def MoveToUp (row):\n",
        "    row -= 1\n",
        "    return row\n",
        " \n",
        "def MoveToDown (row):\n",
        "    row += 1\n",
        "    return row\n",
        "\n",
        "def GeneratePossibleMatrixes(matrix, nrows, ncolumns):\n",
        "    originalPosition = SearchWhiteSpace(matrix)\n",
        "    print(originalPosition)\n",
        "    newPoint = { \"i\": MoveToUp(originalPosition[\"i\"]), \"j\":originalPosition[\"j\"]}\n",
        "    if IsValidPosition(newPoint,nrows, ncolumns):\n",
        "        print(\"Up\")\n",
        "    newPoint = { \"i\": MoveToDown(originalPosition[\"i\"]), \"j\":originalPosition[\"j\"]}\n",
        "    if IsValidPosition(newPoint,nrows, ncolumns):\n",
        "        print(\"Down\")\n",
        "    newPoint = { \"i\": originalPosition[\"i\"] ,\"j\": MoveToRight(originalPosition[\"j\"])}\n",
        "    if IsValidPosition(newPoint,nrows, ncolumns):\n",
        "        print(\"Right\")\n",
        "    newPoint = { \"i\": originalPosition[\"i\"] ,\"j\": MoveToLeft(originalPosition[\"j\"])}\n",
        "    if IsValidPosition(newPoint,nrows, ncolumns):\n",
        "        print(\"Left\")\n",
        "    \n",
        "GeneratePossibleMatrixes([[-1,2,5],[4,2,1],[3,7,8]],3,3)\n",
        "\n",
        "\n"
      ],
      "execution_count": 61,
      "outputs": [
        {
          "output_type": "stream",
          "text": [
            "{'i': 0, 'j': 0}\n",
            "Down\n",
            "Right\n"
          ],
          "name": "stdout"
        }
      ]
    }
  ]
}